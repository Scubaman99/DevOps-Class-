{
  "nbformat": 4,
  "nbformat_minor": 0,
  "metadata": {
    "colab": {
      "provenance": [],
      "include_colab_link": true
    },
    "kernelspec": {
      "name": "python3",
      "display_name": "Python 3"
    },
    "language_info": {
      "name": "python"
    }
  },
  "cells": [
    {
      "cell_type": "markdown",
      "metadata": {
        "id": "view-in-github",
        "colab_type": "text"
      },
      "source": [
        "<a href=\"https://colab.research.google.com/github/Scubaman99/DevOps-Class-/blob/main/Knishikawa_CIS311lab_05.ipynb\" target=\"_parent\"><img src=\"https://colab.research.google.com/assets/colab-badge.svg\" alt=\"Open In Colab\"/></a>"
      ]
    },
    {
      "cell_type": "markdown",
      "source": [
        "# Lab Assignment 5\n",
        "\n",
        "Complete the following steps by **filling in your answer in the Code or Text cell below each question**, and then **run the cell** to observe the output..\n",
        "\n",
        "Before you start working on the lab, please do the following steps:\n",
        "- Go to the Settings (gear icon) in the upper right, on the left of the blue \"Share\" button.\n",
        "- Click on the gear icon.\n",
        "- At the pop up menu, click on \"AI Assistance\"\n",
        "- Uncheck all 3 boxes, if they're not already unchecked.\n",
        "- Click \"Close\".\n",
        "\n",
        "This setting will let you do your own work instead of having the AI do all the work."
      ],
      "metadata": {
        "id": "dK9KVJJpS5f_"
      }
    },
    {
      "cell_type": "markdown",
      "source": [
        "For the questions below:\n",
        "- If the question has no reference to a class notes Colab notebook, then the question is a review of previous material.\n",
        "- If the question refers to Module 5 class notes, then it's new material for Module 5 and the specific section should be helpful as you work on the answer."
      ],
      "metadata": {
        "id": "NGOMiyJjS_Dv"
      }
    },
    {
      "cell_type": "markdown",
      "source": [
        "---"
      ],
      "metadata": {
        "id": "1Z4HpQ6eY4iF"
      }
    },
    {
      "cell_type": "markdown",
      "source": [
        "In this lab we will work with simulation and calculating probabilities with dice rolls. We'll experiment with 1 die first, then with 2 dice. A die has 6 sides, each side is marked with a certain number of dots (or pips), ranging from 1 to 6.\n",
        "\n",
        "First we run the Code cell below to **import the necessary Python modules**."
      ],
      "metadata": {
        "id": "0-6gmOoqTLdp"
      }
    },
    {
      "cell_type": "code",
      "source": [
        "import numpy as np\n",
        "import matplotlib.pyplot as plt\n",
        "import pandas as pd\n",
        "import random"
      ],
      "metadata": {
        "id": "B2uP7ttQYsg9"
      },
      "execution_count": 3,
      "outputs": []
    },
    {
      "cell_type": "markdown",
      "source": [
        "---"
      ],
      "metadata": {
        "id": "PMbN1KEhPmyV"
      }
    },
    {
      "cell_type": "markdown",
      "source": [
        "## Question 1 - Simulation of 1 Die Roll\n",
        "\n",
        "We use a simulation to find the _observed probability_ of rolling a die and getting a 6. Then we check the observed probability against the _theoretical probability_, which is the mathematically derived probability."
      ],
      "metadata": {
        "id": "y1YnDV9cUDdA"
      }
    },
    {
      "cell_type": "markdown",
      "source": [
        "1a. First we establish the theoretical probability of getting a 6 from a die roll.\n",
        "\n",
        "Based on Module 5 class notes, \"Finding Probabilities\" section, we learn what the theoretical probability is for getting a 6 when rolling a die. In the Text box below, **enter the theoretical probability**."
      ],
      "metadata": {
        "id": "E3ALaxw7Uvvu"
      }
    },
    {
      "cell_type": "markdown",
      "source": [
        "The probability of getting a 6 in a die roll is:  "
      ],
      "metadata": {
        "id": "8ZFgaNcmVenv"
      }
    },
    {
      "cell_type": "markdown",
      "source": [
        "1b. Now we work on creating a simulation to check the theoretical probability above.\n",
        "\n",
        "Based on Module 5 class notes, \"Iterations\" section, in the Code cell below **write the function `die_roll_simulation`**, which is a simulation of rolling a die a certain number of times.\n",
        "\n",
        "`die_roll_simulation` does the following steps:\n",
        "- Accept as input: the number of times to roll the die, and store this number in the variable `number_of_times`.\n",
        "- Create a list `L` to store the outcome of each die roll.\n",
        "- Loop `number_of_times` and in the loop:\n",
        "> - Call `random.randint` to get a random number between 1-6, which represents the result of the die roll.\n",
        "> - Store the random number in the list `L`\n",
        "- When the loop is done running `number_of_times`, convert `L` into a numpy array so we can use numpy for efficient calculations.\n",
        "- Return the numpy array.\n",
        "\n",
        "Then **run the Code cell** to let Python know about the `die_roll_simulation` function.\n"
      ],
      "metadata": {
        "id": "ENMo81CYVlm2"
      }
    },
    {
      "cell_type": "code",
      "execution_count": 8,
      "metadata": {
        "id": "y0inKqrRS4qS"
      },
      "outputs": [],
      "source": [
        "# function die_roll_simulation\n",
        "\n",
        "def die_roll_simulation(number_of_times):\n",
        "    L = []\n",
        "    for _ in range(number_of_times):\n",
        "        r = random.randint(1, 6)  # why: randint(1,6) matches die faces 1..6\n",
        "        L.append(r)\n",
        "    return np.array(L)"
      ]
    },
    {
      "cell_type": "markdown",
      "source": [
        "1c. We now simulate rolling a die 1000 times to see how many times we get a 6.\n",
        "\n",
        "In the Code cell below, **write code to do the following steps**:\n",
        "- Call the `die_roll_simulation` function and pass in 1000 as the `number_of_times`, and save the returned array with the variable name `outcomes`.\n",
        "- Print the number of values in `outcomes` to check that it's 1000 values."
      ],
      "metadata": {
        "id": "7jrq36zOYgjt"
      }
    },
    {
      "cell_type": "code",
      "source": [
        "# 1c — simulate 1000 rolls and check the count\n",
        "\n",
        "outcomes = die_roll_simulation(1000)\n",
        "print(len(outcomes))  # why: quick sanity check the array has 1000 results"
      ],
      "metadata": {
        "id": "ZtPgk8gqaD2o",
        "colab": {
          "base_uri": "https://localhost:8080/"
        },
        "outputId": "371a7c00-a114-44c3-ed2e-323e3acd3b21"
      },
      "execution_count": 9,
      "outputs": [
        {
          "output_type": "stream",
          "name": "stdout",
          "text": [
            "1000\n"
          ]
        }
      ]
    },
    {
      "cell_type": "markdown",
      "source": [
        "1d. We find the probability of getting a 6 by using the following formula:\n",
        "$$ P(6) = \\frac{\\text{number of 6}}{1000} $$\n",
        "\n",
        "In the Code cell below, **add code to do the following steps**:\n",
        "- Find the number of 6 in `outcomes`: based on Module 5 class notes, \"Comparison Expressions\" section, use a numpy function to count the number of nonzeros when comparing `outcomes` with 6.\n",
        "- Divide this number by 1000 and store the result with the varible name `P_6`, for P(6).\n",
        "- Print `P_6`, rounded to 3 digits after the decimal point.\n",
        "\n",
        "Then for comparison purpose, **add code to print the theoretical probability** (in step 1a) as a decimal number, rounded to 3 digits after the decimal point"
      ],
      "metadata": {
        "id": "ky0RB0PHacXu"
      }
    },
    {
      "cell_type": "code",
      "source": [
        "# 1d — estimate P(6) from the 1000 simulated outcomes\n",
        "\n",
        "count_sixes = np.count_nonzero(outcomes == 6)  # why: vectorized count of matches\n",
        "P_6 = count_sixes / 1000\n",
        "\n",
        "print(\"Observed P(6):\", round(P_6, 3))\n",
        "print(\"Theoretical P(6):\", round(1/6, 3))"
      ],
      "metadata": {
        "id": "wIjUxHZRc0DV",
        "colab": {
          "base_uri": "https://localhost:8080/"
        },
        "outputId": "de27874e-8ee6-4f83-d6bc-edde32a08821"
      },
      "execution_count": 10,
      "outputs": [
        {
          "output_type": "stream",
          "name": "stdout",
          "text": [
            "Observed P(6): 0.207\n",
            "Theoretical P(6): 0.167\n"
          ]
        }
      ]
    },
    {
      "cell_type": "markdown",
      "source": [
        "1e. The simulated result seems pretty close to the theoretical probability. But we need to run the simulation above many times to see whether the simulated result is still close to the theoretical probability.\n",
        "\n",
        "In the Code cell below, **write code to run the simulation 2000 times**:\n",
        "- Create a list named `L`.\n",
        "- Write a loop that runs 2000 times. In the loop:\n",
        "> - From step 1c: use the line of code to create `outcomes`\n",
        "> - From step 1d: use the line of code to create `P_6`\n",
        "> - Store `P_6` in the list `L`\n",
        "- When the loop is finished, convert `L` to an array named `observed_P`, for observed probability.\n",
        "\n",
        "Then write code to **print the number of values in `L`**. There should be 2000 values, each value represents the observed P(6) for one iteration."
      ],
      "metadata": {
        "id": "VrnjfWBBgWNW"
      }
    },
    {
      "cell_type": "code",
      "source": [
        "# 1e — run the simulation 2000 times and store observed P(6) each time\n",
        "\n",
        "L = []\n",
        "for _ in range(2000):\n",
        "    outcomes = die_roll_simulation(1000)\n",
        "    count_sixes = np.count_nonzero(outcomes == 6)  # why: vectorized, fast count of 6s\n",
        "    P_6 = count_sixes / 1000\n",
        "    L.append(P_6)\n",
        "\n",
        "observed_P = np.array(L)\n",
        "\n",
        "print(len(L))\n"
      ],
      "metadata": {
        "id": "zUB7LLaviWYf",
        "colab": {
          "base_uri": "https://localhost:8080/"
        },
        "outputId": "56adf55d-4347-4f4f-ad54-8bbc6d02effe"
      },
      "execution_count": 11,
      "outputs": [
        {
          "output_type": "stream",
          "name": "stdout",
          "text": [
            "2000\n"
          ]
        }
      ]
    },
    {
      "cell_type": "markdown",
      "source": [
        "1f. Now that we have 2000 observed probabilities from running the simulation 2000 times, we use data visualization to see how close the 2000 observed probabilities are to the theoretical probability that you showed in step 1a.\n",
        "\n",
        "In the Code cell below, **add code to create a histogram of `observed_P`** and run the Code cell."
      ],
      "metadata": {
        "id": "vWljCKEwjCLn"
      }
    },
    {
      "cell_type": "code",
      "source": [
        "plt.figure(figsize=(4,4))\n",
        "\n",
        "# create histogram of observed_P\n",
        "plt.hist(observed_P, bins=30)  # why: 30 bins shows the spread clearly\n",
        "\n",
        "plt.xlabel('Observed P(6)')\n",
        "plt.ylabel('Count')\n",
        "plt.scatter(1/6, 0, color='red', s=30)\n",
        "plt.grid()\n",
        "plt.show()"
      ],
      "metadata": {
        "id": "ZJWEpi5tjuWe",
        "colab": {
          "base_uri": "https://localhost:8080/",
          "height": 388
        },
        "outputId": "8d2fae45-8354-4ec6-9152-95f53a4f22cf"
      },
      "execution_count": 12,
      "outputs": [
        {
          "output_type": "display_data",
          "data": {
            "text/plain": [
              "<Figure size 400x400 with 1 Axes>"
            ],
            "image/png": "[encoded data removed]"
          },
          "metadata": {}
        }
      ]
    },
    {
      "cell_type": "markdown",
      "source": [
        "We can see that out of 2000 runs of the simulation, the observed probability of getting a 6 has the highest chance of being around the value where the red dot is, which is the theoretical probability."
      ],
      "metadata": {
        "id": "9zHLHmkYktkD"
      }
    },
    {
      "cell_type": "markdown",
      "source": [
        "---"
      ],
      "metadata": {
        "id": "NwWqvwSomRmQ"
      }
    },
    {
      "cell_type": "markdown",
      "source": [
        "## Question 2 - Simulation with 2 Dice\n",
        "\n",
        "We use a simulation to find the observed probability of rolling 2 dice and getting a 12 as the total from the 2 dice. Then we check the observed probability against the theoretical probability."
      ],
      "metadata": {
        "id": "6HMJazeMmTPW"
      }
    },
    {
      "cell_type": "markdown",
      "source": [
        "2a. First we establish the theoretical probability of getting a total of 12 from rolling 2 dice.\n",
        "\n",
        "Getting a 12 total means that the first roll needs to be a 6 _and_ the second roll needs to be a 6 also.\n",
        "\n",
        "Based on Module 5 class notes, \"Finding Probabilities\" section, we learn what the theoretical probability is for getting an outcome when 2 events are ANDed together. In the Text box below, **enter the theoretical probability, and show your work on how you arrived at this probability**."
      ],
      "metadata": {
        "id": "eNESatPCXgy9"
      }
    },
    {
      "cell_type": "markdown",
      "source": [
        "The probability of getting a total of 12 from rolling 2 dice is: 1/6 * 1/6 = 1/36"
      ],
      "metadata": {
        "id": "akezLbb2YR-7"
      }
    },
    {
      "cell_type": "markdown",
      "source": [
        "2b. Now we work on creating a simulation to check the theoretical probability above.\n",
        "\n",
        "Based on Module 5 class notes, \"Iterations\" section, in the Code cell below **write the function `dice_roll_simulation`**, which is a simulation of rolling 2 dice a certain number of times.\n",
        "\n",
        "`dice_roll_simulation` does the following steps:\n",
        "- Accept as input: the number of times to roll the 2 dice, and store this number in the variable `number_of_times`.\n",
        "- Create a list `L` to store the outcome of each dice roll.\n",
        "- Loop `num_of_times` and in the loop:\n",
        "> - Create a variable named `total` and set it to 0.\n",
        "> - For the first die roll: call `random.randint` to get a random number between 1-6, and add this number to `total`.\n",
        "> - Repeat the step above for the 2nd die roll: call `random.randint` to get a random number between 1-6, and add this number to `total`.\n",
        "> - Store the `total` in the list `L`.\n",
        "- When the loop is done running `num_of_times`, converts `L` into a numpy array.\n",
        "- Return the numpy array.\n",
        "\n",
        "Then **run the Code cell** to let Python know about the `dice_roll_simulation` function.\n"
      ],
      "metadata": {
        "id": "yf4cfPnabvxo"
      }
    },
    {
      "cell_type": "code",
      "source": [
        "# dice_roll_simulation function\n",
        "\n"
      ],
      "metadata": {
        "id": "B-srX_ycdvSI"
      },
      "execution_count": null,
      "outputs": []
    },
    {
      "cell_type": "markdown",
      "source": [
        "2c. We now simulate rolling 2 dice 1000 times to see how many 12 we get.\n",
        "\n",
        "In the Code cell below, **write code to do the following steps**:\n",
        "- Call the `dice_roll_simulation` function and pass in 1000 as the `number_of_times`, and save the returned array with the variable name `outcomes`.\n",
        "- Print the number of values in `outcomes` to check that it's 1000 values."
      ],
      "metadata": {
        "id": "1TDsduVZefwS"
      }
    },
    {
      "cell_type": "code",
      "source": [
        "outcomes =\n"
      ],
      "metadata": {
        "id": "EgrTd2M1e0NR"
      },
      "execution_count": null,
      "outputs": []
    },
    {
      "cell_type": "markdown",
      "source": [
        "2d. We find the probability of getting a total of 12 by using the following formula:\n",
        "$$ P(12) = \\frac{\\text{number of 12}}{1000} $$\n",
        "\n",
        "In the Code cell below, **add code to do the following steps**:\n",
        "- Find the number of 12 in `outcomes`: based on Module 5 class notes, \"Comparison Expressions\" section, use a numpy function to count the number of nonzeros when comparing `outcomes` with 12.\n",
        "- Divide the number by 1000 and store the result with the varible name `P_12`, for P(12).\n",
        "- Print `P_12`, rounded to 3 digits after the decimal point.\n",
        "\n",
        "Then for comparison purpose, **add code to print the theoretical probability** (in step 2a) as a decimal number, rounded to 3 digits after the decimal point"
      ],
      "metadata": {
        "id": "OYqWhxcAe5hz"
      }
    },
    {
      "cell_type": "code",
      "source": [
        "P_12 =\n",
        "print(\"Observed P(12):\",  )\n",
        "print(\"Theoretical P(12):\",  )"
      ],
      "metadata": {
        "id": "ML2uj5nQgJth"
      },
      "execution_count": null,
      "outputs": []
    },
    {
      "cell_type": "markdown",
      "source": [
        "Once again, we note that the observed P(12) is close to the theoretical P(12), but we need to run the simulation a large number of times to confirm that the two values are still close."
      ],
      "metadata": {
        "id": "Sie8GrSCfbkC"
      }
    },
    {
      "cell_type": "markdown",
      "source": [
        "2e. In the Code cell below, **write code to run the simulation 2000 times**:\n",
        "- Create a list named `L`.\n",
        "- Write a loop that runs 2000 times.\n",
        "- In the loop:\n",
        "> - From step 2c: use the line of code to create `outcomes`\n",
        "> - From step 2d: use the line of code to create `P_12`\n",
        "> - Store `P_12` in the list `L`\n",
        "- When the loop is finished, convert `L` to an array named `observed_P`, for observed probability.\n",
        "\n",
        "Then write code to **print the number of values in `L`**. There should be 2000 values, each value represents the observed P(12) for one iteration."
      ],
      "metadata": {
        "id": "-rT1mOOWh3oi"
      }
    },
    {
      "cell_type": "code",
      "source": [
        "L = []\n",
        "\n"
      ],
      "metadata": {
        "id": "gVS6a753iMUm"
      },
      "execution_count": null,
      "outputs": []
    },
    {
      "cell_type": "markdown",
      "source": [
        "2f. Now that we have 2000 observed probabilities from running the simulation 2000 times, we use data visualization to see how close the 2000 observed probabilities are to the theoretical probability that you showed in step 2a.\n",
        "\n",
        "In the Code cell below, **add code to create a histogram of `observed_P`** and run the Code cell."
      ],
      "metadata": {
        "id": "6I2qWRDYiYWQ"
      }
    },
    {
      "cell_type": "code",
      "source": [
        "plt.figure(figsize=(4,4))\n",
        "\n",
        "# create histogram of observed_P\n",
        "\n",
        "\n",
        "plt.xlabel('Observed P(12)')\n",
        "plt.ylabel('Count')\n",
        "plt.scatter(1/36, 0, color='red', s=30)\n",
        "plt.grid()\n",
        "plt.show()"
      ],
      "metadata": {
        "id": "rK7S0Mitikpb"
      },
      "execution_count": null,
      "outputs": []
    },
    {
      "cell_type": "markdown",
      "source": [
        "We can see that out of 2000 runs of the simulation, the observed probability of getting a total of 12 has the highest chance of being around the value where the red dot is, which is the theoretical probability."
      ],
      "metadata": {
        "id": "ttgnEWJuiwc5"
      }
    },
    {
      "cell_type": "markdown",
      "source": [
        "---"
      ],
      "metadata": {
        "id": "MM2_UgcFjE7v"
      }
    },
    {
      "cell_type": "markdown",
      "source": [
        "## Question 3: Probability of Winning or Losing\n",
        "\n",
        "We've seen that some of the theoretical probabilities are indeed backed by the observed probabilites in our simulations. We'll now use our knowledge of probability in an industry that relies on probability: the casinos.\n",
        "\n",
        "The game [Craps](https://en.wikipedia.org/wiki/Craps) is supposed to be one of the casino games where the house (the casino) has the lowest edge and therefore the players have the highest odds of winning.\n",
        "\n",
        "We'll look at the odds or probability of winning or losing the game right at the _first_ dice roll in Craps:\n",
        "- If the 2 dice end up with a total of 7 or 11, then we win the game.\n",
        "- If the 2 dice end up with a total of 2, 3, or 12, then we lose the game."
      ],
      "metadata": {
        "id": "5fNFRqAUjIXo"
      }
    },
    {
      "cell_type": "markdown",
      "source": [
        "3a. Based on Module 5 class notes, \"Finding Probabilities\" section, in the Code cell below write code to **find the probability of getting a 7 or 11** in the dice roll.<br>\n",
        "Then **print the probability**, rounded to 3 digits after the decimal point.\n",
        "\n",
        "Hint to get started: to get an 11, the 2 dice can be 5 + 6 or 6 + 5. This means you need to calculate:<br>\n",
        " (P(5) and P(6)) or (P(6) and P(5))\n",
        "\n",
        "_Make sure you write arithmetic expressions to tell the computer to do the calculations. You should not have to work out the probability ahead of time and only code: P = 0.355, for example._"
      ],
      "metadata": {
        "id": "QEtmMdlVtTLo"
      }
    },
    {
      "cell_type": "code",
      "source": [
        "# P(7)\n",
        "\n",
        "\n",
        "# P(11)\n",
        "\n"
      ],
      "metadata": {
        "id": "5mMmdTKjtPVr"
      },
      "execution_count": null,
      "outputs": []
    },
    {
      "cell_type": "markdown",
      "source": [
        "3b. Similar to step 3a, in the Code cell below, write code to **find the probability of getting a 2, 3, or 12** in the first dice roll.<br>\n",
        "Then **print the probability**, rounded to 3 digits after the decimal point."
      ],
      "metadata": {
        "id": "-ffBS4NfwreX"
      }
    },
    {
      "cell_type": "code",
      "source": [
        "# P(2)\n",
        "\n",
        "\n",
        "# P(3)\n",
        "\n",
        "\n",
        "# P(12)\n",
        "\n"
      ],
      "metadata": {
        "id": "AV0GVHN_wytT"
      },
      "execution_count": null,
      "outputs": []
    },
    {
      "cell_type": "markdown",
      "source": [
        "The good news is that during the first dice roll, our odds of losing the game is smaller than our odds of winning the game. However, our odds of winning the game in the first dice roll is quite low."
      ],
      "metadata": {
        "id": "UnegacD0xpI0"
      }
    }
  ]
}