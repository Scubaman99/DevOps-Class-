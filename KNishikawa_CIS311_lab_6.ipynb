{
  "nbformat": 4,
  "nbformat_minor": 0,
  "metadata": {
    "colab": {
      "provenance": [],
      "include_colab_link": true
    },
    "kernelspec": {
      "name": "python3",
      "display_name": "Python 3"
    },
    "language_info": {
      "name": "python"
    }
  },
  "cells": [
    {
      "cell_type": "markdown",
      "metadata": {
        "id": "view-in-github",
        "colab_type": "text"
      },
      "source": [
        "<a href=\"https://colab.research.google.com/github/Scubaman99/DevOps-Class-/blob/main/KNishikawa_CIS311_lab_6.ipynb\" target=\"_parent\"><img src=\"https://colab.research.google.com/assets/colab-badge.svg\" alt=\"Open In Colab\"/></a>"
      ]
    },
    {
      "cell_type": "markdown",
      "source": [
        "# Lab Assignment 6\n",
        "\n",
        "Complete the following steps by **filling in your answer in the Code or Text cell below each question**, and then **run the cell** to observe the output.\n",
        "\n",
        "Before you start working on the lab, please do the following steps:\n",
        "- Go to the Settings (gear icon) in the upper right, on the left of the blue \"Share\" button.\n",
        "- Click on the gear icon.\n",
        "- At the pop up menu, click on \"AI Assistance\"\n",
        "- Uncheck all 3 boxes, if they're not already unchecked.\n",
        "- Click \"Close\".\n",
        "\n",
        "This setting will let you do your own work instead of having the AI do all the work."
      ],
      "metadata": {
        "id": "AQ4K90U88XRH"
      }
    },
    {
      "cell_type": "markdown",
      "source": [
        "For the questions below:\n",
        "- If the question has no reference to a class notes Colab notebook, then the question is a review of previous material.\n",
        "- If the question refers to Module 6 class notes, then it's new material for Module 6 and the specific section should be helpful as you work on the answer."
      ],
      "metadata": {
        "id": "XLzFGsdX8f_N"
      }
    },
    {
      "cell_type": "markdown",
      "source": [
        "---"
      ],
      "metadata": {
        "id": "PdVo_z9Z8oK4"
      }
    },
    {
      "cell_type": "markdown",
      "source": [
        "In this lab we work with a dataset of famous people and their birthdays. We want to check for bias in the dataset: do the birthdays represent a random sampling of the general population, or are the birthdays biased and occur more in a certain month or time of year?"
      ],
      "metadata": {
        "id": "klkGm-BX8sWI"
      }
    },
    {
      "cell_type": "markdown",
      "source": [
        "## Part 1: Hypotheses\n",
        "\n",
        "To test the dataset, we'll use the [Birthday Paradox](https://en.wikipedia.org/wiki/Birthday_problem) as our expected result of a random sample of the population. The birthday paradox states that when there is a group of 23 randomly selected people, the probability that at least two of them will share the same birthday is around 50.73%.\n",
        "\n",
        "For our dataset we will randomly select 23 people at a time to see how many duplicate birthdays there are among the 23. Then we'll repeat with many groups of 23 people so that we can plot the empirical distribution of the number of shared birthdays. Then we find the probability of getting at least one shared birthday from our simulation results. If the probability is around 50.73%, then the dataset is likely unbiased, and if it's much larger than 50.73%, then the birthdays are likely not randomly selected among the population.\n",
        "\n",
        "We'll start by defining our null hypothesis and alternate hypothesis. The null hypothesis is that the dataset is random and unbiased."
      ],
      "metadata": {
        "id": "7gzHJy_KVo4U"
      }
    },
    {
      "cell_type": "markdown",
      "source": [
        "### Question 1\n",
        "Based on Module 6 Hypothesis Testing class notes, \"Testing Hypotheses\" section, **write your statements for the null hypothesis and the alternate hypothesis** in the Text cells below.\n",
        "\n",
        "Use the birthday paradox percentage in your hypothesis statements."
      ],
      "metadata": {
        "id": "zZkM6g_n-CVM"
      }
    },
    {
      "cell_type": "markdown",
      "source": [
        "- Null hypothesis: The dataset is ...\n",
        "\n",
        "- Alternate hypothesis: ..."
      ],
      "metadata": {
        "id": "ZCzCDoSoYMZw"
      }
    },
    {
      "cell_type": "markdown",
      "source": [
        "---"
      ],
      "metadata": {
        "id": "E6hcd3JjxhuC"
      }
    },
    {
      "cell_type": "markdown",
      "source": [
        "## Part 2: Read and Prepare Data\n",
        "\n",
        "First we import the necessary modules."
      ],
      "metadata": {
        "id": "mvwzR1bG_18Q"
      }
    },
    {
      "cell_type": "code",
      "source": [
        "import pandas as pd\n",
        "import numpy as np\n",
        "import matplotlib.pyplot as plt"
      ],
      "metadata": {
        "id": "NxnT08FyaxCG"
      },
      "execution_count": null,
      "outputs": []
    },
    {
      "cell_type": "markdown",
      "source": [
        "The data is a list of famous people and some of their attributes, such as the month and day of their birth. The original dataset is found on [Kaggle](https://www.kaggle.com/datasets/mexwell/famous-birthdays), and it has been cleaned and formatted to be used here.\n",
        "\n",
        "### Question 2\n",
        "**Read from the URL into a DataFrame named `data`**.<br>\n",
        "Then **print the number of rows and columns of `data`**\n",
        "and **print the first 5 rows**.\n",
        "\n",
        "Make sure to print a text description for the number of rows and columns so it's clear what the numbers are."
      ],
      "metadata": {
        "id": "DeW_Wh9nZ2JE"
      }
    },
    {
      "cell_type": "code",
      "source": [
        "url = \"https://raw.githubusercontent.com/DeAnzaDataScience/CIS11/refs/heads/main/datasets_labs/birthdays.csv\"\n",
        "data =\n"
      ],
      "metadata": {
        "id": "-O6tAXhucPAt"
      },
      "execution_count": null,
      "outputs": []
    },
    {
      "cell_type": "markdown",
      "source": [
        "---"
      ],
      "metadata": {
        "id": "hgWrcSbAnC2w"
      }
    },
    {
      "cell_type": "markdown",
      "source": [
        "\n",
        "### Question 3\n",
        "We want to select and format the data for sampling. Follow the steps below to create a new DataFrame named `birthdays` that has 1 column. The data in the column is a combination of the `birthMonth` and `birthDay` columns, where the month and day are formatted as mm-dd (2 digits for the month, 2 digits for the day).\n",
        "\n",
        "To review looping (iteration), calling a function, and accessing data in a DataFrame, we'll use a few steps to create the `birthdays` DataFrame.\n",
        "\n",
        "3a. **Run the Code cell below** to let Python know about the function `month_day`, which takes in a month and a day, and returns the mm-dd format."
      ],
      "metadata": {
        "id": "yvMLcsF7dh_u"
      }
    },
    {
      "cell_type": "code",
      "source": [
        "def month_day(month, day) :\n",
        "    return f\"{month:02d}-{day:02d}\""
      ],
      "metadata": {
        "id": "rsVSTuOCemhG"
      },
      "execution_count": null,
      "outputs": []
    },
    {
      "cell_type": "markdown",
      "source": [
        "3b. Test the `month_day` function:\n",
        "- **Call the function** and give it any numeric month and day of your choice.\n",
        "- **Print the output** of the function to see that it works."
      ],
      "metadata": {
        "id": "VOgm9JUjVMHR"
      }
    },
    {
      "cell_type": "code",
      "source": [
        "# call month_day with your choice of input\n"
      ],
      "metadata": {
        "id": "vvZpM2iqVdyx"
      },
      "execution_count": null,
      "outputs": []
    },
    {
      "cell_type": "markdown",
      "source": [
        "3c. Now that we know how `month_day` works, we use it convert all of the `birthMonth` and `birthDay` data into the mm-dd format.\n",
        "\n",
        "**Add code as necessary** in the Code cell below to:\n",
        "- Create a list L to store all the mm-dd data.\n",
        "- Loop the same number of times as the number of rows of the `data` DataFrame (found in step 1), and in the loop:\n",
        "> - call the `month_day` function and give it the current row's `birthMonth` and `birthDay` values.\n",
        "> - store the output in the list L.\n",
        "- After the loop is done, print the number of mm-dd data in the list L."
      ],
      "metadata": {
        "id": "5T24ec6UVmtE"
      }
    },
    {
      "cell_type": "code",
      "source": [
        "L = []\n",
        "\n",
        "\n",
        "\n",
        "print(\"Number of data in L:\", len(L))"
      ],
      "metadata": {
        "id": "Vga1U0ajXayF"
      },
      "execution_count": null,
      "outputs": []
    },
    {
      "cell_type": "markdown",
      "source": [
        "3d. **Create the DataFrame `birthdays`** with one column, which is the list L, and the column header is the text string `day`.<br>\n",
        "Then **print the first 5 rows** of `birthdays`."
      ],
      "metadata": {
        "id": "m5vGxa3jXqUI"
      }
    },
    {
      "cell_type": "code",
      "source": [
        "birthdays =\n",
        "print(\"First 5 rows:\")\n",
        "birthdays.head()"
      ],
      "metadata": {
        "id": "tPnWYE-JYjeE"
      },
      "execution_count": null,
      "outputs": []
    },
    {
      "cell_type": "markdown",
      "source": [
        "We now have a dataset of birthdays from which we can draw random samples of 23 birthdays."
      ],
      "metadata": {
        "id": "TC7KQQ5XY2Up"
      }
    },
    {
      "cell_type": "markdown",
      "source": [
        "---"
      ],
      "metadata": {
        "id": "XfzpNjQ5ZH71"
      }
    },
    {
      "cell_type": "markdown",
      "source": [
        "## Part 3: Sample and Simulation\n",
        "\n"
      ],
      "metadata": {
        "id": "XsuGNqMIZJo9"
      }
    },
    {
      "cell_type": "markdown",
      "source": [
        "### Question 4\n",
        "Based on Module 6 Sampling class notes, \"Types of Samples\" section, **create a _probability sample_** of 23 birthdays from the `birthdays` DataFrame, **call it `sample`**.<br>\n",
        "Then **display `sample`** to see the 23 birthdays."
      ],
      "metadata": {
        "id": "ymchtTmHaLUP"
      }
    },
    {
      "cell_type": "code",
      "source": [
        "sample =\n"
      ],
      "metadata": {
        "id": "tDSUgnOSaqtH"
      },
      "execution_count": null,
      "outputs": []
    },
    {
      "cell_type": "markdown",
      "source": [
        "---"
      ],
      "metadata": {
        "id": "AcPm4XEUocLJ"
      }
    },
    {
      "cell_type": "markdown",
      "source": [
        "### Question 5\n",
        "Even though we can visually scan the 23 birthdays above and mentally check for duplicate birthdays, it's faster to let the computer do the checking.\n",
        "\n",
        "Follow the steps below to write a function to check for duplicate birthdays.\n",
        "\n",
        "5a. In the Code cell below, observe that the code:\n",
        "- Creates a short list L of random numbers, and there are 2 pairs of duplicate numbers.\n",
        "- Creates a new Python structure called a _set_. A set can only store unique values, so if we send data from the list to the set, the set will remove one value from the pair of numbers that are duplicates.\n",
        "\n",
        "**Run the following Code cell** to observe how the set works."
      ],
      "metadata": {
        "id": "qc5ABrynbd4t"
      }
    },
    {
      "cell_type": "code",
      "source": [
        "# list L has 2 pairs of duplicate values: 3 and 5\n",
        "L = [1, 3, 2, 5, 3, 5, 4]\n",
        "\n",
        "# create a set S from data in L\n",
        "S = set(L)\n",
        "\n",
        "# note that S doesn't have the duplicate data\n",
        "print(\"S:\", S)"
      ],
      "metadata": {
        "id": "waPwxp1BcPm-"
      },
      "execution_count": null,
      "outputs": []
    },
    {
      "cell_type": "markdown",
      "source": [
        "\n",
        "We can then use the `len()` function to find the number of values in L and in S. If there are more values in L than in S, then the difference is the number of duplicate pairs in L.\n",
        "\n",
        "**Run the Code cell** to see how to find the number of duplicates in a sequence of data."
      ],
      "metadata": {
        "id": "v7pPTpqXv1Kf"
      }
    },
    {
      "cell_type": "code",
      "source": [
        "print(\"Number of values in L:\", len(L))\n",
        "print(\"Number of values in S:\", len(S))\n",
        "\n",
        "# find the number of pairs of duplicates\n",
        "print(\"Number of duplicates:\", len(L) - len(S))"
      ],
      "metadata": {
        "id": "6m_PPIFZeRKv"
      },
      "execution_count": null,
      "outputs": []
    },
    {
      "cell_type": "markdown",
      "source": [
        "5b. Given what we've observed in step 5a, **write a function** named `find_duplicates` that accepts the list L as input, and returns the number of duplicates in L.<br>\n",
        "Then **run the Code cell** to let Python know about the function."
      ],
      "metadata": {
        "id": "AvwS6XOAeoBM"
      }
    },
    {
      "cell_type": "code",
      "source": [],
      "metadata": {
        "id": "Ng4m7xw1fBHo"
      },
      "execution_count": null,
      "outputs": []
    },
    {
      "cell_type": "markdown",
      "source": [
        "5c. **Run the `find_duplicates` function** with the 23 birthdays in the `sample` DataFrame from Question 4, and **print the number of duplicates**.\n",
        "\n",
        "To check that the function works, re-run the code of Question 4 and this step 5c a couple times, and check each time that the correct number of duplicates is printed."
      ],
      "metadata": {
        "id": "BS6hEV2VfeWm"
      }
    },
    {
      "cell_type": "code",
      "source": [],
      "metadata": {
        "id": "hpfzg_xHfVPS"
      },
      "execution_count": null,
      "outputs": []
    },
    {
      "cell_type": "markdown",
      "source": [
        "---"
      ],
      "metadata": {
        "id": "wGKV8DLZofSv"
      }
    },
    {
      "cell_type": "markdown",
      "source": [
        "### Question 6\n",
        "We're ready for our simulation: we'll write a function to take a sample and find the number of duplicates, then we run the function a large number of times to get the simulated results.\n",
        "\n",
        "6a. The code of Questions 4 and 5c make up the sampling code that we want. Write a `take_sample` function that has the code of the 2 questions:\n",
        "- Create a probability sample of 23 birthdays\n",
        "- Find and return the number of duplicates in the sample"
      ],
      "metadata": {
        "id": "s8-aDYSDhQSu"
      }
    },
    {
      "cell_type": "code",
      "source": [
        "def take_sample\n",
        "\n"
      ],
      "metadata": {
        "id": "lqBNjMafzQ8L"
      },
      "execution_count": null,
      "outputs": []
    },
    {
      "cell_type": "markdown",
      "source": [
        "6b. For the simulation, **add to the code below to do the following steps**:\n",
        "- Create a list L to store the number of duplicates.\n",
        "- Loop 10,000 times and in the loop:\n",
        "> - Call the `take_sample` function to get the number of duplicates for a sample\n",
        "> - Store the number of duplicates in L\n",
        "- When the loop is done, convert L to a numpy array named `results`.\n",
        "- Print the number of values in `results`. There should be 10,000 values."
      ],
      "metadata": {
        "id": "4wqm5FHphVTD"
      }
    },
    {
      "cell_type": "code",
      "source": [
        "L = []\n",
        "for i in\n",
        "\n",
        "\n",
        "results =\n",
        "print(\"Number of values in results:\", len(results))"
      ],
      "metadata": {
        "id": "sruyP0D9z_Vm"
      },
      "execution_count": null,
      "outputs": []
    },
    {
      "cell_type": "markdown",
      "source": [
        "6c. We plot the results in a histogram to visually observe the number of duplicates from the simulation.\n",
        "\n",
        "**Run the Code cell below with your `results`** from step 6b."
      ],
      "metadata": {
        "id": "LCuOn2xz1z5V"
      }
    },
    {
      "cell_type": "code",
      "source": [
        "plt.figure(figsize=(5,4))\n",
        "plt.hist(results, edgecolor='black', bins=np.arange(-0.5,7.5))\n",
        "plt.xlabel(\"Number of Duplicates\")\n",
        "plt.ylabel(\"Count\")\n",
        "plt.grid()\n",
        "plt.show()"
      ],
      "metadata": {
        "id": "fiVk1dx02dBH"
      },
      "execution_count": null,
      "outputs": []
    },
    {
      "cell_type": "markdown",
      "source": [
        "---"
      ],
      "metadata": {
        "id": "CJ-ndRiL1Q2c"
      }
    },
    {
      "cell_type": "markdown",
      "source": [
        "## Part 4: Hypothesis Testing\n",
        "\n",
        "To see how close our simulation results are to the birthday paradox percentage, we need to find the probability of getting at least one duplicate birthday from the simulation results."
      ],
      "metadata": {
        "id": "zBz4bCVe1SPH"
      }
    },
    {
      "cell_type": "markdown",
      "source": [
        "### Question 7\n",
        "\n",
        "The observed probability of at least one duplicate birthday is:\n",
        "$$\n",
        "P( \\text{at least one duplicate}) = \\frac{\\text{number of duplicates}}{\\text{total number of iterations}}\n",
        "$$\n",
        "<br>\n",
        "\n",
        "7a. Write code to **find and print `p_at_least_one`**, the P(at_least_one_duplicate), by following these steps:\n",
        "- find the number of values in `results` that are greater than 0. This is the number of duplicates.\n",
        "- divide this number by the total number of iterations.\n",
        "- print the probability as a percentage, rounded to 2 digits."
      ],
      "metadata": {
        "id": "EjxLJguo0AqP"
      }
    },
    {
      "cell_type": "code",
      "source": [
        "\n",
        "print(\"P(at_least_one_duplicate):\", round(p_at_least_one, 2))"
      ],
      "metadata": {
        "id": "1s1Hiwv_4_JQ"
      },
      "execution_count": null,
      "outputs": []
    },
    {
      "cell_type": "markdown",
      "source": [
        "7b. To visually compare the expected and observed probabilities for having at least one duplicate birthday, we use a bar chart.\n",
        "\n",
        "**Run the Code cell below** with your `p_at_least_one_duplicate` and the expected 50.73% probability."
      ],
      "metadata": {
        "id": "zTGcAXmZJAeL"
      }
    },
    {
      "cell_type": "code",
      "source": [
        "plt.figure(figsize=(4,4))\n",
        "plt.bar([0,1],[50.73,p_at_least_one])\n",
        "plt.xticks([0,1],[\"Expected\",\"Observed\"])\n",
        "plt.ylabel(\"Probability\")\n",
        "plt.grid()\n",
        "plt.show()"
      ],
      "metadata": {
        "id": "Y6HKANuiIeAb"
      },
      "execution_count": null,
      "outputs": []
    },
    {
      "cell_type": "markdown",
      "source": [
        "7c. Based on your observed probability of at least one duplicate birthday, **answer the following 2 questions** in the Text cell below:\n",
        "\n",
        "- Does the observed probability reject the null hypothesis, or fail to reject the null hypothesis?\n",
        "- Is it likely that the data in the dataset was randomly selected from the population?\n",
        "\n"
      ],
      "metadata": {
        "id": "F30Lc3b86a0f"
      }
    },
    {
      "cell_type": "markdown",
      "source": [
        "The observed probability ...\n",
        "\n",
        "The data was ..."
      ],
      "metadata": {
        "id": "ZVWYTY0J7_Fo"
      }
    }
  ]
}