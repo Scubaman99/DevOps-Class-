{
  "cells": [
    {
      "cell_type": "markdown",
      "metadata": {
        "id": "view-in-github",
        "colab_type": "text"
      },
      "source": [
        "<a href=\"https://colab.research.google.com/github/Scubaman99/DevOps-Class-/blob/main/knishikawa_lab_01.ipynb\" target=\"_parent\"><img src=\"https://colab.research.google.com/assets/colab-badge.svg\" alt=\"Open In Colab\"/></a>"
      ]
    },
    {
      "cell_type": "markdown",
      "metadata": {
        "id": "RmDK-wgWtz1Q"
      },
      "source": [
        "# Lab Assignment 1\n",
        "\n",
        "Complete the following steps by <b>creating a new cell below each question</b> and use the new cell for your answer.\n",
        "\n",
        "Before you start working on the lab, please do the following steps:\n",
        "- Go to the Settings (gear icon) in the upper right, next to the blue \"Share\" button.\n",
        "- Click on the gear icon.\n",
        "- At the pop up menu, click on \"AI Assistance\"\n",
        "- Uncheck all 3 boxes, if they're not already unchecked.\n",
        "- Click \"Close\".\n",
        "\n",
        "This setting will let you do your own work instead of having the AI do all the work."
      ]
    },
    {
      "cell_type": "markdown",
      "metadata": {
        "id": "0hwiohsliCCx"
      },
      "source": [
        "---"
      ]
    },
    {
      "cell_type": "markdown",
      "metadata": {
        "id": "Ewtk1NFeujQa"
      },
      "source": [
        "## Question 1\n",
        "\n",
        "Below this cell, **create a new cell with the following 3 pieces of information**, <u>each on a separate line</u>:<br>\n",
        "- your full name\n",
        "- the class number (CIS 11 or CIS 311)\n",
        "- the current date<br>\n",
        "\n",
        "Choose the appropriate type of cell that can display text strings.\n",
        "\n",
        "Then **run the cell** to check that the result is as expected."
      ]
    },
    {
      "cell_type": "markdown",
      "source": [
        "Kenichi Nishikawa<br>\n",
        "CIS 311<br>\n",
        "09/25/25"
      ],
      "metadata": {
        "id": "3U8iuwkhNKv7"
      }
    },
    {
      "cell_type": "markdown",
      "metadata": {
        "id": "hQSM5BcsiCCz"
      },
      "source": [
        "---"
      ]
    },
    {
      "cell_type": "markdown",
      "metadata": {
        "id": "wWUo7lFiwG3A"
      },
      "source": [
        "## Question 2\n",
        "\n",
        "Below this cell, **create a new cell and use the cell to do the following 2 tasks**:\n",
        "- Ask the computer to calculate the sum of 123, 456, and 789\n",
        "- Display the result\n",
        "\n",
        "Choose the appropriate type of cell that's used to write and run code.\n",
        "\n",
        "Then **run the cell** to check that the result is as expected. If there is an error, fix the error and re-run the cell until you get the expected result."
      ]
    },
    {
      "cell_type": "code",
      "source": [
        "print(123 + 456 + 789)"
      ],
      "metadata": {
        "colab": {
          "base_uri": "https://localhost:8080/"
        },
        "id": "PPxn26NyNq1Q",
        "outputId": "04b1b27a-d871-4f55-8a37-28b6a55b815d"
      },
      "execution_count": 3,
      "outputs": [
        {
          "output_type": "stream",
          "name": "stdout",
          "text": [
            "1368\n"
          ]
        }
      ]
    },
    {
      "cell_type": "markdown",
      "metadata": {
        "id": "_-51QMxxiCC0"
      },
      "source": [
        "---"
      ]
    },
    {
      "cell_type": "markdown",
      "metadata": {
        "id": "dpKWXZdVxq_y"
      },
      "source": [
        "## Question 3\n",
        "\n",
        "Below this cell, **create a new cell to share what you'd like me to know about you**, by answering the 3 following questions:\n",
        "  - What is your major or what do you plan to major in?\n",
        "  - Have you had experience with data analysis, machine learning, or AI?\n",
        "  - How do you think you would use data science in the future?\n",
        "\n",
        "And an optional question:\n",
        "  - Anything else about you'd like me to know about you?\n",
        "\n",
        "Choose the appropriate type of cell that can display text strings.\n",
        "\n",
        "Then **run the cell** to check that the result is as expected."
      ]
    },
    {
      "cell_type": "markdown",
      "source": [
        "*   I don't have a major, but rather I am going for a certificate.  I am taking this class for my own knowledge\n",
        "*   While I have spent 20yrs in IT managment, I am new to AI.  In any event, I have been taking \"online\" classes in Python, ML and AI information.\n",
        "*   My desire is to get into an AI startup and I expect to use data science in the future.\n",
        "*   I am born and raised in the bay area.  I love to fish and I am a trained sushi chef in a prior life.\n",
        "\n"
      ],
      "metadata": {
        "id": "fwhJcwoHO5B8"
      }
    }
  ],
  "metadata": {
    "colab": {
      "provenance": [],
      "toc_visible": true,
      "include_colab_link": true
    },
    "kernelspec": {
      "display_name": "Python 3 (ipykernel)",
      "language": "python",
      "name": "python3"
    },
    "language_info": {
      "codemirror_mode": {
        "name": "ipython",
        "version": 3
      },
      "file_extension": ".py",
      "mimetype": "text/x-python",
      "name": "python",
      "nbconvert_exporter": "python",
      "pygments_lexer": "ipython3",
      "version": "3.12.7"
    }
  },
  "nbformat": 4,
  "nbformat_minor": 0
}